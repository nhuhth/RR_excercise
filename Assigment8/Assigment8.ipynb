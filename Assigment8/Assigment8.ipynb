{
  "cells": [
    {
      "cell_type": "markdown",
      "metadata": {
        "id": "P4SJ0nceHt28"
      },
      "source": [
        "# <center>*Breaking Bad Data*</center>\n",
        "Nhu Ho - 466503\n",
        "\n",
        "## Introduction: \n",
        "*Breaking Bad* is a critically acclaimed American television drama series created by **Vince Gilligan**, which aired on AMC from January 20, 2008, to September 29, 2013. The show spans five seasons with a total of 62 episodes and is set and filmed in **Albuquerque, New Mexico**.\n",
        "\n",
        "The story centers around **Walter White** (*Bryan Cranston*), a disillusioned high school chemistry teacher who is diagnosed with terminal lung cancer. In an effort to secure his family's financial future, he turns to producing and selling crystal methamphetamine. He partners with his former student, **Jesse Pinkman** (*Aaron Paul*), and together they descend into the criminal underworld. The series is celebrated for its compelling character development, moral ambiguity, and the dramatic transformation of Walter White from an ordinary teacher into a feared drug kingpin.\n"
      ]
    },
    {
      "cell_type": "markdown",
      "metadata": {},
      "source": [
        "## Data Preparation\n"
      ]
    },
    {
      "cell_type": "code",
      "execution_count": 9,
      "metadata": {
        "colab": {
          "base_uri": "https://localhost:8080/"
        },
        "id": "2dicj-gLHe4N",
        "outputId": "225c2eab-e4e3-4b03-d451-cc2c9884bdcc"
      },
      "outputs": [
        {
          "data": {
            "text/html": [
              "<div>\n",
              "<style scoped>\n",
              "    .dataframe tbody tr th:only-of-type {\n",
              "        vertical-align: middle;\n",
              "    }\n",
              "\n",
              "    .dataframe tbody tr th {\n",
              "        vertical-align: top;\n",
              "    }\n",
              "\n",
              "    .dataframe thead th {\n",
              "        text-align: right;\n",
              "    }\n",
              "</style>\n",
              "<table border=\"1\" class=\"dataframe\">\n",
              "  <thead>\n",
              "    <tr style=\"text-align: right;\">\n",
              "      <th></th>\n",
              "      <th>trend</th>\n",
              "      <th>season</th>\n",
              "      <th>episode</th>\n",
              "      <th>title</th>\n",
              "      <th>year</th>\n",
              "      <th>total votes</th>\n",
              "      <th>average rating</th>\n",
              "      <th>global_episode_number</th>\n",
              "    </tr>\n",
              "  </thead>\n",
              "  <tbody>\n",
              "    <tr>\n",
              "      <th>0</th>\n",
              "      <td>72</td>\n",
              "      <td>1</td>\n",
              "      <td>1</td>\n",
              "      <td>Pilot</td>\n",
              "      <td>2008</td>\n",
              "      <td>51776</td>\n",
              "      <td>9.0</td>\n",
              "      <td>1</td>\n",
              "    </tr>\n",
              "    <tr>\n",
              "      <th>1</th>\n",
              "      <td>47</td>\n",
              "      <td>1</td>\n",
              "      <td>2</td>\n",
              "      <td>Cat's in the Bag...</td>\n",
              "      <td>2008</td>\n",
              "      <td>37816</td>\n",
              "      <td>8.6</td>\n",
              "      <td>2</td>\n",
              "    </tr>\n",
              "    <tr>\n",
              "      <th>2</th>\n",
              "      <td>48</td>\n",
              "      <td>1</td>\n",
              "      <td>3</td>\n",
              "      <td>...And the Bag's in the River</td>\n",
              "      <td>2008</td>\n",
              "      <td>36499</td>\n",
              "      <td>8.7</td>\n",
              "      <td>3</td>\n",
              "    </tr>\n",
              "    <tr>\n",
              "      <th>3</th>\n",
              "      <td>39</td>\n",
              "      <td>1</td>\n",
              "      <td>4</td>\n",
              "      <td>Cancer Man</td>\n",
              "      <td>2008</td>\n",
              "      <td>35098</td>\n",
              "      <td>8.2</td>\n",
              "      <td>4</td>\n",
              "    </tr>\n",
              "    <tr>\n",
              "      <th>4</th>\n",
              "      <td>44</td>\n",
              "      <td>1</td>\n",
              "      <td>5</td>\n",
              "      <td>Gray Matter</td>\n",
              "      <td>2008</td>\n",
              "      <td>34478</td>\n",
              "      <td>8.3</td>\n",
              "      <td>5</td>\n",
              "    </tr>\n",
              "  </tbody>\n",
              "</table>\n",
              "</div>"
            ],
            "text/plain": [
              "   trend  season  episode                          title  year  total votes  \\\n",
              "0     72       1        1                          Pilot  2008        51776   \n",
              "1     47       1        2            Cat's in the Bag...  2008        37816   \n",
              "2     48       1        3  ...And the Bag's in the River  2008        36499   \n",
              "3     39       1        4                     Cancer Man  2008        35098   \n",
              "4     44       1        5                    Gray Matter  2008        34478   \n",
              "\n",
              "   average rating  global_episode_number  \n",
              "0             9.0                      1  \n",
              "1             8.6                      2  \n",
              "2             8.7                      3  \n",
              "3             8.2                      4  \n",
              "4             8.3                      5  "
            ]
          },
          "execution_count": 9,
          "metadata": {},
          "output_type": "execute_result"
        }
      ],
      "source": [
        "import pandas as pd\n",
        "import re\n",
        "import matplotlib.pyplot as plt\n",
        "import seaborn as sns\n",
        "\n",
        "# Load the dataset\n",
        "df = pd.read_csv(\"/Users/hoangnhu/Downloads/breakingbad_data.csv\")\n",
        "df.head()"
      ]
    },
    {
      "cell_type": "code",
      "execution_count": 5,
      "metadata": {},
      "outputs": [
        {
          "data": {
            "text/html": [
              "<div>\n",
              "<style scoped>\n",
              "    .dataframe tbody tr th:only-of-type {\n",
              "        vertical-align: middle;\n",
              "    }\n",
              "\n",
              "    .dataframe tbody tr th {\n",
              "        vertical-align: top;\n",
              "    }\n",
              "\n",
              "    .dataframe thead th {\n",
              "        text-align: right;\n",
              "    }\n",
              "</style>\n",
              "<table border=\"1\" class=\"dataframe\">\n",
              "  <thead>\n",
              "    <tr style=\"text-align: right;\">\n",
              "      <th></th>\n",
              "      <th>trend</th>\n",
              "      <th>season</th>\n",
              "      <th>episode</th>\n",
              "      <th>title</th>\n",
              "      <th>year</th>\n",
              "      <th>total_votes</th>\n",
              "      <th>average_rating</th>\n",
              "    </tr>\n",
              "  </thead>\n",
              "  <tbody>\n",
              "    <tr>\n",
              "      <th>0</th>\n",
              "      <td>72</td>\n",
              "      <td>1</td>\n",
              "      <td>1</td>\n",
              "      <td>Pilot</td>\n",
              "      <td>2008</td>\n",
              "      <td>51776</td>\n",
              "      <td>9.0</td>\n",
              "    </tr>\n",
              "    <tr>\n",
              "      <th>1</th>\n",
              "      <td>47</td>\n",
              "      <td>1</td>\n",
              "      <td>2</td>\n",
              "      <td>Cat's in the Bag...</td>\n",
              "      <td>2008</td>\n",
              "      <td>37816</td>\n",
              "      <td>8.6</td>\n",
              "    </tr>\n",
              "    <tr>\n",
              "      <th>2</th>\n",
              "      <td>48</td>\n",
              "      <td>1</td>\n",
              "      <td>3</td>\n",
              "      <td>...And the Bag's in the River</td>\n",
              "      <td>2008</td>\n",
              "      <td>36499</td>\n",
              "      <td>8.7</td>\n",
              "    </tr>\n",
              "    <tr>\n",
              "      <th>3</th>\n",
              "      <td>39</td>\n",
              "      <td>1</td>\n",
              "      <td>4</td>\n",
              "      <td>Cancer Man</td>\n",
              "      <td>2008</td>\n",
              "      <td>35098</td>\n",
              "      <td>8.2</td>\n",
              "    </tr>\n",
              "    <tr>\n",
              "      <th>4</th>\n",
              "      <td>44</td>\n",
              "      <td>1</td>\n",
              "      <td>5</td>\n",
              "      <td>Gray Matter</td>\n",
              "      <td>2008</td>\n",
              "      <td>34478</td>\n",
              "      <td>8.3</td>\n",
              "    </tr>\n",
              "  </tbody>\n",
              "</table>\n",
              "</div>"
            ],
            "text/plain": [
              "   trend  season  episode                          title  year  total_votes  \\\n",
              "0     72       1        1                          Pilot  2008        51776   \n",
              "1     47       1        2            Cat's in the Bag...  2008        37816   \n",
              "2     48       1        3  ...And the Bag's in the River  2008        36499   \n",
              "3     39       1        4                     Cancer Man  2008        35098   \n",
              "4     44       1        5                    Gray Matter  2008        34478   \n",
              "\n",
              "   average_rating  \n",
              "0             9.0  \n",
              "1             8.6  \n",
              "2             8.7  \n",
              "3             8.2  \n",
              "4             8.3  "
            ]
          },
          "execution_count": 5,
          "metadata": {},
          "output_type": "execute_result"
        }
      ],
      "source": [
        "df.head()"
      ]
    },
    {
      "cell_type": "code",
      "execution_count": 10,
      "metadata": {},
      "outputs": [
        {
          "name": "stdout",
          "output_type": "stream",
          "text": [
            "<class 'pandas.core.frame.DataFrame'>\n",
            "RangeIndex: 62 entries, 0 to 61\n",
            "Data columns (total 8 columns):\n",
            " #   Column                 Non-Null Count  Dtype  \n",
            "---  ------                 --------------  -----  \n",
            " 0   trend                  62 non-null     int64  \n",
            " 1   season                 62 non-null     int64  \n",
            " 2   episode                62 non-null     int64  \n",
            " 3   title                  62 non-null     object \n",
            " 4   year                   62 non-null     int64  \n",
            " 5   total votes            62 non-null     int64  \n",
            " 6   average rating         62 non-null     float64\n",
            " 7   global_episode_number  62 non-null     int64  \n",
            "dtypes: float64(1), int64(6), object(1)\n",
            "memory usage: 4.0+ KB\n"
          ]
        }
      ],
      "source": [
        "# Display info to check data types\n",
        "df.info()\n"
      ]
    },
    {
      "cell_type": "code",
      "execution_count": 12,
      "metadata": {
        "colab": {
          "base_uri": "https://localhost:8080/"
        },
        "id": "3P18jxinInsM",
        "outputId": "fd22f551-5c6e-4158-d6a8-8930beacaa8e"
      },
      "outputs": [
        {
          "data": {
            "text/html": [
              "<div>\n",
              "<style scoped>\n",
              "    .dataframe tbody tr th:only-of-type {\n",
              "        vertical-align: middle;\n",
              "    }\n",
              "\n",
              "    .dataframe tbody tr th {\n",
              "        vertical-align: top;\n",
              "    }\n",
              "\n",
              "    .dataframe thead th {\n",
              "        text-align: right;\n",
              "    }\n",
              "</style>\n",
              "<table border=\"1\" class=\"dataframe\">\n",
              "  <thead>\n",
              "    <tr style=\"text-align: right;\">\n",
              "      <th></th>\n",
              "      <th>trend</th>\n",
              "      <th>season</th>\n",
              "      <th>episode</th>\n",
              "      <th>year</th>\n",
              "      <th>total votes</th>\n",
              "      <th>average rating</th>\n",
              "      <th>global_episode_number</th>\n",
              "    </tr>\n",
              "  </thead>\n",
              "  <tbody>\n",
              "    <tr>\n",
              "      <th>count</th>\n",
              "      <td>62.000000</td>\n",
              "      <td>62.000000</td>\n",
              "      <td>62.000000</td>\n",
              "      <td>62.000000</td>\n",
              "      <td>62.000000</td>\n",
              "      <td>62.000000</td>\n",
              "      <td>62.000000</td>\n",
              "    </tr>\n",
              "    <tr>\n",
              "      <th>mean</th>\n",
              "      <td>61.274194</td>\n",
              "      <td>3.290323</td>\n",
              "      <td>7.048387</td>\n",
              "      <td>2010.419355</td>\n",
              "      <td>41766.532258</td>\n",
              "      <td>8.961290</td>\n",
              "      <td>31.500000</td>\n",
              "    </tr>\n",
              "    <tr>\n",
              "      <th>std</th>\n",
              "      <td>56.838041</td>\n",
              "      <td>1.359690</td>\n",
              "      <td>4.074822</td>\n",
              "      <td>1.552876</td>\n",
              "      <td>32600.580303</td>\n",
              "      <td>0.550217</td>\n",
              "      <td>18.041619</td>\n",
              "    </tr>\n",
              "    <tr>\n",
              "      <th>min</th>\n",
              "      <td>20.000000</td>\n",
              "      <td>1.000000</td>\n",
              "      <td>1.000000</td>\n",
              "      <td>2008.000000</td>\n",
              "      <td>27486.000000</td>\n",
              "      <td>7.900000</td>\n",
              "      <td>1.000000</td>\n",
              "    </tr>\n",
              "    <tr>\n",
              "      <th>25%</th>\n",
              "      <td>32.000000</td>\n",
              "      <td>2.000000</td>\n",
              "      <td>4.000000</td>\n",
              "      <td>2009.000000</td>\n",
              "      <td>29547.500000</td>\n",
              "      <td>8.500000</td>\n",
              "      <td>16.250000</td>\n",
              "    </tr>\n",
              "    <tr>\n",
              "      <th>50%</th>\n",
              "      <td>44.000000</td>\n",
              "      <td>3.000000</td>\n",
              "      <td>7.000000</td>\n",
              "      <td>2010.000000</td>\n",
              "      <td>34055.000000</td>\n",
              "      <td>8.900000</td>\n",
              "      <td>31.500000</td>\n",
              "    </tr>\n",
              "    <tr>\n",
              "      <th>75%</th>\n",
              "      <td>73.500000</td>\n",
              "      <td>4.750000</td>\n",
              "      <td>10.000000</td>\n",
              "      <td>2011.750000</td>\n",
              "      <td>39455.000000</td>\n",
              "      <td>9.375000</td>\n",
              "      <td>46.750000</td>\n",
              "    </tr>\n",
              "    <tr>\n",
              "      <th>max</th>\n",
              "      <td>393.000000</td>\n",
              "      <td>5.000000</td>\n",
              "      <td>16.000000</td>\n",
              "      <td>2013.000000</td>\n",
              "      <td>249378.000000</td>\n",
              "      <td>10.000000</td>\n",
              "      <td>62.000000</td>\n",
              "    </tr>\n",
              "  </tbody>\n",
              "</table>\n",
              "</div>"
            ],
            "text/plain": [
              "            trend     season    episode         year    total votes  \\\n",
              "count   62.000000  62.000000  62.000000    62.000000      62.000000   \n",
              "mean    61.274194   3.290323   7.048387  2010.419355   41766.532258   \n",
              "std     56.838041   1.359690   4.074822     1.552876   32600.580303   \n",
              "min     20.000000   1.000000   1.000000  2008.000000   27486.000000   \n",
              "25%     32.000000   2.000000   4.000000  2009.000000   29547.500000   \n",
              "50%     44.000000   3.000000   7.000000  2010.000000   34055.000000   \n",
              "75%     73.500000   4.750000  10.000000  2011.750000   39455.000000   \n",
              "max    393.000000   5.000000  16.000000  2013.000000  249378.000000   \n",
              "\n",
              "       average rating  global_episode_number  \n",
              "count       62.000000              62.000000  \n",
              "mean         8.961290              31.500000  \n",
              "std          0.550217              18.041619  \n",
              "min          7.900000               1.000000  \n",
              "25%          8.500000              16.250000  \n",
              "50%          8.900000              31.500000  \n",
              "75%          9.375000              46.750000  \n",
              "max         10.000000              62.000000  "
            ]
          },
          "execution_count": 12,
          "metadata": {},
          "output_type": "execute_result"
        }
      ],
      "source": [
        "# Summary statistics for episode ratings\n",
        "df.describe()"
      ]
    },
    {
      "cell_type": "markdown",
      "metadata": {},
      "source": [
        "The dataset covers 62 episodes from 2008 to 2013, averaging 7 episodes per season over about 3 seasons. Viewer engagement varies significantly, with total votes ranging from around 27,000 to nearly 250,000.\n",
        "\n",
        "The average rating is high at 8.96 out of 10, reflecting strong positive reception. Overall, the series demonstrates consistent popularity and quality throughout its run."
      ]
    },
    {
      "cell_type": "code",
      "execution_count": 13,
      "metadata": {},
      "outputs": [
        {
          "name": "stdout",
          "output_type": "stream",
          "text": [
            "\n",
            "--- Average Rating and Votes per Season ---\n",
            "   season  average_rating  average_votes\n",
            "0       1            8.70       38774.14\n",
            "1       2            8.78       32296.85\n",
            "2       3            8.75       33202.54\n",
            "3       4            8.97       36604.38\n",
            "4       5            9.39       61922.31\n"
          ]
        }
      ],
      "source": [
        "# Calculate mean rating and votes by season\n",
        "average_season_stats = df.groupby('season').agg({\n",
        "    'average rating': 'mean',\n",
        "    'total votes': 'mean'\n",
        "}).rename(columns={\n",
        "    'average rating': 'average_rating',\n",
        "    'total votes': 'average_votes'\n",
        "}).reset_index()\n",
        "\n",
        "print(\"\\n--- Average Rating and Votes per Season ---\")\n",
        "print(average_season_stats.round(2))\n"
      ]
    },
    {
      "cell_type": "markdown",
      "metadata": {},
      "source": [
        "The average ratings across seasons are fairly consistent, ranging from 8.70 to 9.39. Season 5 has the highest average rating (9.39), indicating strong positive reception.\n",
        "\n",
        "In terms of average votes, Season 5 also leads with nearly 62,000 votes, significantly higher than other seasons, reflecting greater viewer engagement. Other seasons have similar vote counts, between approximately 32,000 and 39,000.\n",
        "\n",
        "Overall, Season 5 stands out as the most successful in both rating and audience interest."
      ]
    },
    {
      "cell_type": "code",
      "execution_count": 14,
      "metadata": {
        "colab": {
          "base_uri": "https://localhost:8080/"
        },
        "id": "ST8szULIIwv9",
        "outputId": "1571837c-f3ef-4f13-d851-817d6570e148"
      },
      "outputs": [
        {
          "name": "stdout",
          "output_type": "stream",
          "text": [
            "\n",
            "Top Rated Episode: Season 5, Episode 14 - 'Ozymandias' with a rating of 10.0 and 249,378 votes\n",
            "Lowest Rated Episode: Season 3, Episode 10 - 'Fly' with a rating of 7.9 and 53,427 votes\n",
            "Most Voted Episode: Season 5, Episode 14 - 'Ozymandias' with 249,378 votes\n"
          ]
        }
      ],
      "source": [
        "# Find the episode with the highest and lowest average rating\n",
        "highest_rated_episode = df.loc[df['average rating'].idxmax()]\n",
        "lowest_rated_episode = df.loc[df['average rating'].idxmin()]\n",
        "\n",
        "print(f\"\\nTop Rated Episode: Season {int(highest_rated_episode['season'])}, Episode {int(highest_rated_episode['episode'])} - '{highest_rated_episode['title']}' with a rating of {highest_rated_episode['average rating']} and {highest_rated_episode['total votes']:,} votes\")\n",
        "print(f\"Lowest Rated Episode: Season {int(lowest_rated_episode['season'])}, Episode {int(lowest_rated_episode['episode'])} - '{lowest_rated_episode['title']}' with a rating of {lowest_rated_episode['average rating']} and {lowest_rated_episode['total votes']:,} votes\")\n",
        "\n",
        "# Find the episode with the highest number of votes\n",
        "most_voted_episode = df.loc[df['total votes'].idxmax()]\n",
        "print(f\"Most Voted Episode: Season {int(most_voted_episode['season'])}, Episode {int(most_voted_episode['episode'])} - '{most_voted_episode['title']}' with {most_voted_episode['total votes']:,} votes\")\n"
      ]
    },
    {
      "cell_type": "markdown",
      "metadata": {},
      "source": [
        "- The highest-rated episode is Season 5, Episode 14, titled \"Ozymandias,\" which achieved a perfect rating of 10.0 and also received the highest number of votes (249,378), indicating it is both critically acclaimed and highly popular among viewers.\n",
        "\n",
        "- The lowest-rated episode is Season 3, Episode 10, titled \"Fly,\" with a rating of 7.9. Although it has the lowest rating in the dataset, it still attracted a significant number of votes (53,427), showing it was still widely watched.\n",
        "\n",
        "Overall, \"Ozymandias\" stands out as the standout episode in terms of both quality and audience engagement, while \"Fly\" represents the lower end of the ratings spectrum but still maintained notable viewer interest."
      ]
    },
    {
      "cell_type": "markdown",
      "metadata": {},
      "source": [
        "## Average Rating and Votes by Season"
      ]
    },
    {
      "cell_type": "code",
      "execution_count": 28,
      "metadata": {},
      "outputs": [
        {
          "data": {
            "application/vnd.plotly.v1+json": {
              "config": {
                "plotlyServerURL": "https://plot.ly"
              },
              "data": [
                {
                  "customdata": [
                    38774.142857142855,
                    32296.846153846152,
                    33202.53846153846,
                    36604.38461538462,
                    61922.3125
                  ],
                  "hovertemplate": "Season %{x}<br>Avg Rating: %{y:.2f}<br>Avg Votes: %{customdata:,}<extra></extra>",
                  "marker": {
                    "color": [
                      "rgb(229, 134, 6)",
                      "rgb(93, 105, 177)",
                      "rgb(82, 188, 163)",
                      "rgb(153, 201, 69)",
                      "rgb(204, 97, 176)"
                    ]
                  },
                  "name": "Average Rating",
                  "type": "bar",
                  "x": [
                    1,
                    2,
                    3,
                    4,
                    5
                  ],
                  "y": [
                    8.7,
                    8.784615384615385,
                    8.746153846153847,
                    8.96923076923077,
                    9.3875
                  ],
                  "yaxis": "y"
                },
                {
                  "customdata": [
                    8.7,
                    8.784615384615385,
                    8.746153846153847,
                    8.96923076923077,
                    9.3875
                  ],
                  "hovertemplate": "Season %{x}<br>Avg Votes: %{y:,.0f}<br>Avg Rating: %{customdata:.2f}<extra></extra>",
                  "marker": {
                    "color": "crimson",
                    "size": [
                      16.559184548469688,
                      10,
                      10.917142329956832,
                      14.361995599874525,
                      40
                    ]
                  },
                  "mode": "markers+lines",
                  "name": "Average Votes",
                  "type": "scatter",
                  "x": [
                    1,
                    2,
                    3,
                    4,
                    5
                  ],
                  "y": [
                    38774.142857142855,
                    32296.846153846152,
                    33202.53846153846,
                    36604.38461538462,
                    61922.3125
                  ],
                  "yaxis": "y2"
                },
                {
                  "line": {
                    "color": "darkblue",
                    "dash": "dash"
                  },
                  "mode": "lines",
                  "name": "Rating Trend",
                  "type": "scatter",
                  "x": [
                    1,
                    2,
                    3,
                    4,
                    5
                  ],
                  "y": [
                    8.60557692307692,
                    8.76153846153846,
                    8.917499999999999,
                    9.073461538461537,
                    9.229423076923077
                  ],
                  "yaxis": "y"
                }
              ],
              "layout": {
                "annotations": [
                  {
                    "arrowhead": 2,
                    "ax": 0,
                    "ay": -40,
                    "bgcolor": "lightblue",
                    "showarrow": true,
                    "text": "Highest Avg Rating: Season 5",
                    "x": 5,
                    "y": 9.3875,
                    "yref": "y"
                  },
                  {
                    "arrowhead": 2,
                    "ax": 0,
                    "ay": 40,
                    "bgcolor": "lightcoral",
                    "showarrow": true,
                    "text": "Highest Avg Votes: Season 5",
                    "x": 5,
                    "y": 61922.3125,
                    "yref": "y2"
                  }
                ],
                "bargap": 0.3,
                "height": 550,
                "legend": {
                  "x": 0.01,
                  "y": 0.99
                },
                "template": {
                  "data": {
                    "bar": [
                      {
                        "error_x": {
                          "color": "#2a3f5f"
                        },
                        "error_y": {
                          "color": "#2a3f5f"
                        },
                        "marker": {
                          "line": {
                            "color": "#E5ECF6",
                            "width": 0.5
                          },
                          "pattern": {
                            "fillmode": "overlay",
                            "size": 10,
                            "solidity": 0.2
                          }
                        },
                        "type": "bar"
                      }
                    ],
                    "barpolar": [
                      {
                        "marker": {
                          "line": {
                            "color": "#E5ECF6",
                            "width": 0.5
                          },
                          "pattern": {
                            "fillmode": "overlay",
                            "size": 10,
                            "solidity": 0.2
                          }
                        },
                        "type": "barpolar"
                      }
                    ],
                    "carpet": [
                      {
                        "aaxis": {
                          "endlinecolor": "#2a3f5f",
                          "gridcolor": "white",
                          "linecolor": "white",
                          "minorgridcolor": "white",
                          "startlinecolor": "#2a3f5f"
                        },
                        "baxis": {
                          "endlinecolor": "#2a3f5f",
                          "gridcolor": "white",
                          "linecolor": "white",
                          "minorgridcolor": "white",
                          "startlinecolor": "#2a3f5f"
                        },
                        "type": "carpet"
                      }
                    ],
                    "choropleth": [
                      {
                        "colorbar": {
                          "outlinewidth": 0,
                          "ticks": ""
                        },
                        "type": "choropleth"
                      }
                    ],
                    "contour": [
                      {
                        "colorbar": {
                          "outlinewidth": 0,
                          "ticks": ""
                        },
                        "colorscale": [
                          [
                            0,
                            "#0d0887"
                          ],
                          [
                            0.1111111111111111,
                            "#46039f"
                          ],
                          [
                            0.2222222222222222,
                            "#7201a8"
                          ],
                          [
                            0.3333333333333333,
                            "#9c179e"
                          ],
                          [
                            0.4444444444444444,
                            "#bd3786"
                          ],
                          [
                            0.5555555555555556,
                            "#d8576b"
                          ],
                          [
                            0.6666666666666666,
                            "#ed7953"
                          ],
                          [
                            0.7777777777777778,
                            "#fb9f3a"
                          ],
                          [
                            0.8888888888888888,
                            "#fdca26"
                          ],
                          [
                            1,
                            "#f0f921"
                          ]
                        ],
                        "type": "contour"
                      }
                    ],
                    "contourcarpet": [
                      {
                        "colorbar": {
                          "outlinewidth": 0,
                          "ticks": ""
                        },
                        "type": "contourcarpet"
                      }
                    ],
                    "heatmap": [
                      {
                        "colorbar": {
                          "outlinewidth": 0,
                          "ticks": ""
                        },
                        "colorscale": [
                          [
                            0,
                            "#0d0887"
                          ],
                          [
                            0.1111111111111111,
                            "#46039f"
                          ],
                          [
                            0.2222222222222222,
                            "#7201a8"
                          ],
                          [
                            0.3333333333333333,
                            "#9c179e"
                          ],
                          [
                            0.4444444444444444,
                            "#bd3786"
                          ],
                          [
                            0.5555555555555556,
                            "#d8576b"
                          ],
                          [
                            0.6666666666666666,
                            "#ed7953"
                          ],
                          [
                            0.7777777777777778,
                            "#fb9f3a"
                          ],
                          [
                            0.8888888888888888,
                            "#fdca26"
                          ],
                          [
                            1,
                            "#f0f921"
                          ]
                        ],
                        "type": "heatmap"
                      }
                    ],
                    "heatmapgl": [
                      {
                        "colorbar": {
                          "outlinewidth": 0,
                          "ticks": ""
                        },
                        "colorscale": [
                          [
                            0,
                            "#0d0887"
                          ],
                          [
                            0.1111111111111111,
                            "#46039f"
                          ],
                          [
                            0.2222222222222222,
                            "#7201a8"
                          ],
                          [
                            0.3333333333333333,
                            "#9c179e"
                          ],
                          [
                            0.4444444444444444,
                            "#bd3786"
                          ],
                          [
                            0.5555555555555556,
                            "#d8576b"
                          ],
                          [
                            0.6666666666666666,
                            "#ed7953"
                          ],
                          [
                            0.7777777777777778,
                            "#fb9f3a"
                          ],
                          [
                            0.8888888888888888,
                            "#fdca26"
                          ],
                          [
                            1,
                            "#f0f921"
                          ]
                        ],
                        "type": "heatmapgl"
                      }
                    ],
                    "histogram": [
                      {
                        "marker": {
                          "pattern": {
                            "fillmode": "overlay",
                            "size": 10,
                            "solidity": 0.2
                          }
                        },
                        "type": "histogram"
                      }
                    ],
                    "histogram2d": [
                      {
                        "colorbar": {
                          "outlinewidth": 0,
                          "ticks": ""
                        },
                        "colorscale": [
                          [
                            0,
                            "#0d0887"
                          ],
                          [
                            0.1111111111111111,
                            "#46039f"
                          ],
                          [
                            0.2222222222222222,
                            "#7201a8"
                          ],
                          [
                            0.3333333333333333,
                            "#9c179e"
                          ],
                          [
                            0.4444444444444444,
                            "#bd3786"
                          ],
                          [
                            0.5555555555555556,
                            "#d8576b"
                          ],
                          [
                            0.6666666666666666,
                            "#ed7953"
                          ],
                          [
                            0.7777777777777778,
                            "#fb9f3a"
                          ],
                          [
                            0.8888888888888888,
                            "#fdca26"
                          ],
                          [
                            1,
                            "#f0f921"
                          ]
                        ],
                        "type": "histogram2d"
                      }
                    ],
                    "histogram2dcontour": [
                      {
                        "colorbar": {
                          "outlinewidth": 0,
                          "ticks": ""
                        },
                        "colorscale": [
                          [
                            0,
                            "#0d0887"
                          ],
                          [
                            0.1111111111111111,
                            "#46039f"
                          ],
                          [
                            0.2222222222222222,
                            "#7201a8"
                          ],
                          [
                            0.3333333333333333,
                            "#9c179e"
                          ],
                          [
                            0.4444444444444444,
                            "#bd3786"
                          ],
                          [
                            0.5555555555555556,
                            "#d8576b"
                          ],
                          [
                            0.6666666666666666,
                            "#ed7953"
                          ],
                          [
                            0.7777777777777778,
                            "#fb9f3a"
                          ],
                          [
                            0.8888888888888888,
                            "#fdca26"
                          ],
                          [
                            1,
                            "#f0f921"
                          ]
                        ],
                        "type": "histogram2dcontour"
                      }
                    ],
                    "mesh3d": [
                      {
                        "colorbar": {
                          "outlinewidth": 0,
                          "ticks": ""
                        },
                        "type": "mesh3d"
                      }
                    ],
                    "parcoords": [
                      {
                        "line": {
                          "colorbar": {
                            "outlinewidth": 0,
                            "ticks": ""
                          }
                        },
                        "type": "parcoords"
                      }
                    ],
                    "pie": [
                      {
                        "automargin": true,
                        "type": "pie"
                      }
                    ],
                    "scatter": [
                      {
                        "fillpattern": {
                          "fillmode": "overlay",
                          "size": 10,
                          "solidity": 0.2
                        },
                        "type": "scatter"
                      }
                    ],
                    "scatter3d": [
                      {
                        "line": {
                          "colorbar": {
                            "outlinewidth": 0,
                            "ticks": ""
                          }
                        },
                        "marker": {
                          "colorbar": {
                            "outlinewidth": 0,
                            "ticks": ""
                          }
                        },
                        "type": "scatter3d"
                      }
                    ],
                    "scattercarpet": [
                      {
                        "marker": {
                          "colorbar": {
                            "outlinewidth": 0,
                            "ticks": ""
                          }
                        },
                        "type": "scattercarpet"
                      }
                    ],
                    "scattergeo": [
                      {
                        "marker": {
                          "colorbar": {
                            "outlinewidth": 0,
                            "ticks": ""
                          }
                        },
                        "type": "scattergeo"
                      }
                    ],
                    "scattergl": [
                      {
                        "marker": {
                          "colorbar": {
                            "outlinewidth": 0,
                            "ticks": ""
                          }
                        },
                        "type": "scattergl"
                      }
                    ],
                    "scattermapbox": [
                      {
                        "marker": {
                          "colorbar": {
                            "outlinewidth": 0,
                            "ticks": ""
                          }
                        },
                        "type": "scattermapbox"
                      }
                    ],
                    "scatterpolar": [
                      {
                        "marker": {
                          "colorbar": {
                            "outlinewidth": 0,
                            "ticks": ""
                          }
                        },
                        "type": "scatterpolar"
                      }
                    ],
                    "scatterpolargl": [
                      {
                        "marker": {
                          "colorbar": {
                            "outlinewidth": 0,
                            "ticks": ""
                          }
                        },
                        "type": "scatterpolargl"
                      }
                    ],
                    "scatterternary": [
                      {
                        "marker": {
                          "colorbar": {
                            "outlinewidth": 0,
                            "ticks": ""
                          }
                        },
                        "type": "scatterternary"
                      }
                    ],
                    "surface": [
                      {
                        "colorbar": {
                          "outlinewidth": 0,
                          "ticks": ""
                        },
                        "colorscale": [
                          [
                            0,
                            "#0d0887"
                          ],
                          [
                            0.1111111111111111,
                            "#46039f"
                          ],
                          [
                            0.2222222222222222,
                            "#7201a8"
                          ],
                          [
                            0.3333333333333333,
                            "#9c179e"
                          ],
                          [
                            0.4444444444444444,
                            "#bd3786"
                          ],
                          [
                            0.5555555555555556,
                            "#d8576b"
                          ],
                          [
                            0.6666666666666666,
                            "#ed7953"
                          ],
                          [
                            0.7777777777777778,
                            "#fb9f3a"
                          ],
                          [
                            0.8888888888888888,
                            "#fdca26"
                          ],
                          [
                            1,
                            "#f0f921"
                          ]
                        ],
                        "type": "surface"
                      }
                    ],
                    "table": [
                      {
                        "cells": {
                          "fill": {
                            "color": "#EBF0F8"
                          },
                          "line": {
                            "color": "white"
                          }
                        },
                        "header": {
                          "fill": {
                            "color": "#C8D4E3"
                          },
                          "line": {
                            "color": "white"
                          }
                        },
                        "type": "table"
                      }
                    ]
                  },
                  "layout": {
                    "annotationdefaults": {
                      "arrowcolor": "#2a3f5f",
                      "arrowhead": 0,
                      "arrowwidth": 1
                    },
                    "autotypenumbers": "strict",
                    "coloraxis": {
                      "colorbar": {
                        "outlinewidth": 0,
                        "ticks": ""
                      }
                    },
                    "colorscale": {
                      "diverging": [
                        [
                          0,
                          "#8e0152"
                        ],
                        [
                          0.1,
                          "#c51b7d"
                        ],
                        [
                          0.2,
                          "#de77ae"
                        ],
                        [
                          0.3,
                          "#f1b6da"
                        ],
                        [
                          0.4,
                          "#fde0ef"
                        ],
                        [
                          0.5,
                          "#f7f7f7"
                        ],
                        [
                          0.6,
                          "#e6f5d0"
                        ],
                        [
                          0.7,
                          "#b8e186"
                        ],
                        [
                          0.8,
                          "#7fbc41"
                        ],
                        [
                          0.9,
                          "#4d9221"
                        ],
                        [
                          1,
                          "#276419"
                        ]
                      ],
                      "sequential": [
                        [
                          0,
                          "#0d0887"
                        ],
                        [
                          0.1111111111111111,
                          "#46039f"
                        ],
                        [
                          0.2222222222222222,
                          "#7201a8"
                        ],
                        [
                          0.3333333333333333,
                          "#9c179e"
                        ],
                        [
                          0.4444444444444444,
                          "#bd3786"
                        ],
                        [
                          0.5555555555555556,
                          "#d8576b"
                        ],
                        [
                          0.6666666666666666,
                          "#ed7953"
                        ],
                        [
                          0.7777777777777778,
                          "#fb9f3a"
                        ],
                        [
                          0.8888888888888888,
                          "#fdca26"
                        ],
                        [
                          1,
                          "#f0f921"
                        ]
                      ],
                      "sequentialminus": [
                        [
                          0,
                          "#0d0887"
                        ],
                        [
                          0.1111111111111111,
                          "#46039f"
                        ],
                        [
                          0.2222222222222222,
                          "#7201a8"
                        ],
                        [
                          0.3333333333333333,
                          "#9c179e"
                        ],
                        [
                          0.4444444444444444,
                          "#bd3786"
                        ],
                        [
                          0.5555555555555556,
                          "#d8576b"
                        ],
                        [
                          0.6666666666666666,
                          "#ed7953"
                        ],
                        [
                          0.7777777777777778,
                          "#fb9f3a"
                        ],
                        [
                          0.8888888888888888,
                          "#fdca26"
                        ],
                        [
                          1,
                          "#f0f921"
                        ]
                      ]
                    },
                    "colorway": [
                      "#636efa",
                      "#EF553B",
                      "#00cc96",
                      "#ab63fa",
                      "#FFA15A",
                      "#19d3f3",
                      "#FF6692",
                      "#B6E880",
                      "#FF97FF",
                      "#FECB52"
                    ],
                    "font": {
                      "color": "#2a3f5f"
                    },
                    "geo": {
                      "bgcolor": "white",
                      "lakecolor": "white",
                      "landcolor": "#E5ECF6",
                      "showlakes": true,
                      "showland": true,
                      "subunitcolor": "white"
                    },
                    "hoverlabel": {
                      "align": "left"
                    },
                    "hovermode": "closest",
                    "mapbox": {
                      "style": "light"
                    },
                    "paper_bgcolor": "white",
                    "plot_bgcolor": "#E5ECF6",
                    "polar": {
                      "angularaxis": {
                        "gridcolor": "white",
                        "linecolor": "white",
                        "ticks": ""
                      },
                      "bgcolor": "#E5ECF6",
                      "radialaxis": {
                        "gridcolor": "white",
                        "linecolor": "white",
                        "ticks": ""
                      }
                    },
                    "scene": {
                      "xaxis": {
                        "backgroundcolor": "#E5ECF6",
                        "gridcolor": "white",
                        "gridwidth": 2,
                        "linecolor": "white",
                        "showbackground": true,
                        "ticks": "",
                        "zerolinecolor": "white"
                      },
                      "yaxis": {
                        "backgroundcolor": "#E5ECF6",
                        "gridcolor": "white",
                        "gridwidth": 2,
                        "linecolor": "white",
                        "showbackground": true,
                        "ticks": "",
                        "zerolinecolor": "white"
                      },
                      "zaxis": {
                        "backgroundcolor": "#E5ECF6",
                        "gridcolor": "white",
                        "gridwidth": 2,
                        "linecolor": "white",
                        "showbackground": true,
                        "ticks": "",
                        "zerolinecolor": "white"
                      }
                    },
                    "shapedefaults": {
                      "line": {
                        "color": "#2a3f5f"
                      }
                    },
                    "ternary": {
                      "aaxis": {
                        "gridcolor": "white",
                        "linecolor": "white",
                        "ticks": ""
                      },
                      "baxis": {
                        "gridcolor": "white",
                        "linecolor": "white",
                        "ticks": ""
                      },
                      "bgcolor": "#E5ECF6",
                      "caxis": {
                        "gridcolor": "white",
                        "linecolor": "white",
                        "ticks": ""
                      }
                    },
                    "title": {
                      "x": 0.05
                    },
                    "xaxis": {
                      "automargin": true,
                      "gridcolor": "white",
                      "linecolor": "white",
                      "ticks": "",
                      "title": {
                        "standoff": 15
                      },
                      "zerolinecolor": "white",
                      "zerolinewidth": 2
                    },
                    "yaxis": {
                      "automargin": true,
                      "gridcolor": "white",
                      "linecolor": "white",
                      "ticks": "",
                      "title": {
                        "standoff": 15
                      },
                      "zerolinecolor": "white",
                      "zerolinewidth": 2
                    }
                  }
                },
                "title": {
                  "text": "Breaking Bad: Average Rating and Votes by Season"
                },
                "width": 900,
                "xaxis": {
                  "tickmode": "linear",
                  "title": {
                    "text": "Season"
                  }
                },
                "yaxis": {
                  "range": [
                    0,
                    10
                  ],
                  "showgrid": false,
                  "title": {
                    "text": "Average Rating"
                  }
                },
                "yaxis2": {
                  "overlaying": "y",
                  "showgrid": false,
                  "side": "right",
                  "tickformat": ",",
                  "title": {
                    "text": "Average Number of Votes"
                  }
                }
              }
            }
          },
          "metadata": {},
          "output_type": "display_data"
        }
      ],
      "source": [
        "import plotly.graph_objects as go\n",
        "import plotly.express as px\n",
        "import numpy as np\n",
        "\n",
        "bar_colors = px.colors.qualitative.Vivid[:len(average_season_stats)]\n",
        "\n",
        "fig = go.Figure()\n",
        "\n",
        "# Bar for average rating\n",
        "fig.add_trace(go.Bar(\n",
        "    x=average_season_stats['season'],\n",
        "    y=average_season_stats['average_rating'],\n",
        "    name='Average Rating',\n",
        "    marker_color=bar_colors,\n",
        "    yaxis='y1',\n",
        "    hovertemplate=(\n",
        "        'Season %{x}<br>' +\n",
        "        'Avg Rating: %{y:.2f}<br>' +\n",
        "        'Avg Votes: %{customdata:,}<extra></extra>'\n",
        "    ),\n",
        "    customdata=average_season_stats['average_votes']\n",
        "))\n",
        "\n",
        "# Scale marker size by votes count for better visual impact\n",
        "votes_scaled = (average_season_stats['average_votes'] - average_season_stats['average_votes'].min()) / (\n",
        "    average_season_stats['average_votes'].max() - average_season_stats['average_votes'].min()\n",
        ") * 30 + 10  # Scale from 10 to 40\n",
        "\n",
        "fig.add_trace(go.Scatter(\n",
        "    x=average_season_stats['season'],\n",
        "    y=average_season_stats['average_votes'],\n",
        "    name='Average Votes',\n",
        "    mode='markers+lines',\n",
        "    marker=dict(color='crimson', size=votes_scaled),\n",
        "    yaxis='y2',\n",
        "    hovertemplate=(\n",
        "        'Season %{x}<br>' +\n",
        "        'Avg Votes: %{y:,.0f}<br>' +\n",
        "        'Avg Rating: %{customdata:.2f}<extra></extra>'\n",
        "    ),\n",
        "    customdata=average_season_stats['average_rating']\n",
        "))\n",
        "\n",
        "# Add a trend line for average rating\n",
        "z = np.polyfit(average_season_stats['season'], average_season_stats['average_rating'], 1)\n",
        "p = np.poly1d(z)\n",
        "fig.add_trace(go.Scatter(\n",
        "    x=average_season_stats['season'],\n",
        "    y=p(average_season_stats['season']),\n",
        "    name='Rating Trend',\n",
        "    mode='lines',\n",
        "    line=dict(color='darkblue', dash='dash'),\n",
        "    yaxis='y1'\n",
        "))\n",
        "\n",
        "# Annotations for max rating and max votes\n",
        "max_rating_season = int(average_season_stats.loc[average_season_stats['average_rating'].idxmax(), 'season'])\n",
        "max_rating_val = average_season_stats['average_rating'].max()\n",
        "\n",
        "max_votes_season = int(average_season_stats.loc[average_season_stats['average_votes'].idxmax(), 'season'])\n",
        "max_votes_val = average_season_stats['average_votes'].max()\n",
        "\n",
        "fig.add_annotation(x=max_rating_season, y=max_rating_val, yref='y1',\n",
        "                   text=f\"Highest Avg Rating: Season {max_rating_season}\",\n",
        "                   showarrow=True, arrowhead=2, ax=0, ay=-40, bgcolor='lightblue')\n",
        "\n",
        "fig.add_annotation(x=max_votes_season, y=max_votes_val, yref='y2',\n",
        "                   text=f\"Highest Avg Votes: Season {max_votes_season}\",\n",
        "                   showarrow=True, arrowhead=2, ax=0, ay=40, bgcolor='lightcoral')\n",
        "\n",
        "fig.update_layout(\n",
        "    title='Breaking Bad: Average Rating and Votes by Season',\n",
        "    xaxis=dict(title='Season', tickmode='linear'),\n",
        "    yaxis=dict(title='Average Rating', range=[0, 10], showgrid=False),\n",
        "    yaxis2=dict(\n",
        "        title='Average Number of Votes',\n",
        "        overlaying='y',\n",
        "        side='right',\n",
        "        showgrid=False,\n",
        "        tickformat=','\n",
        "    ),\n",
        "    legend=dict(x=0.01, y=0.99),\n",
        "    bargap=0.3,\n",
        "    width=900,\n",
        "    height=550\n",
        ")\n",
        "\n",
        "fig.show()\n"
      ]
    },
    {
      "cell_type": "markdown",
      "metadata": {},
      "source": [
        "## Episode Ratings and Votes Over Time\n"
      ]
    },
    {
      "cell_type": "code",
      "execution_count": 35,
      "metadata": {},
      "outputs": [
        {
          "data": {
            "application/vnd.plotly.v1+json": {
              "config": {
                "plotlyServerURL": "https://plot.ly"
              },
              "data": [
                {
                  "marker": {
                    "color": [
                      "rgb(229, 134, 6)",
                      "rgb(93, 105, 177)",
                      "rgb(82, 188, 163)",
                      "rgb(153, 201, 69)",
                      "rgb(204, 97, 176)"
                    ]
                  },
                  "name": "Average Rating",
                  "type": "bar",
                  "x": [
                    1,
                    2,
                    3,
                    4,
                    5
                  ],
                  "y": [
                    8.7,
                    8.784615384615385,
                    8.746153846153847,
                    8.96923076923077,
                    9.3875
                  ],
                  "yaxis": "y"
                },
                {
                  "marker": {
                    "color": "crimson"
                  },
                  "mode": "lines+markers",
                  "name": "Average Votes",
                  "type": "scatter",
                  "x": [
                    1,
                    2,
                    3,
                    4,
                    5
                  ],
                  "y": [
                    38774.142857142855,
                    32296.846153846152,
                    33202.53846153846,
                    36604.38461538462,
                    61922.3125
                  ],
                  "yaxis": "y2"
                }
              ],
              "layout": {
                "bargap": 0.3,
                "height": 500,
                "legend": {
                  "x": 0.01,
                  "y": 0.99
                },
                "template": {
                  "data": {
                    "bar": [
                      {
                        "error_x": {
                          "color": "#2a3f5f"
                        },
                        "error_y": {
                          "color": "#2a3f5f"
                        },
                        "marker": {
                          "line": {
                            "color": "#E5ECF6",
                            "width": 0.5
                          },
                          "pattern": {
                            "fillmode": "overlay",
                            "size": 10,
                            "solidity": 0.2
                          }
                        },
                        "type": "bar"
                      }
                    ],
                    "barpolar": [
                      {
                        "marker": {
                          "line": {
                            "color": "#E5ECF6",
                            "width": 0.5
                          },
                          "pattern": {
                            "fillmode": "overlay",
                            "size": 10,
                            "solidity": 0.2
                          }
                        },
                        "type": "barpolar"
                      }
                    ],
                    "carpet": [
                      {
                        "aaxis": {
                          "endlinecolor": "#2a3f5f",
                          "gridcolor": "white",
                          "linecolor": "white",
                          "minorgridcolor": "white",
                          "startlinecolor": "#2a3f5f"
                        },
                        "baxis": {
                          "endlinecolor": "#2a3f5f",
                          "gridcolor": "white",
                          "linecolor": "white",
                          "minorgridcolor": "white",
                          "startlinecolor": "#2a3f5f"
                        },
                        "type": "carpet"
                      }
                    ],
                    "choropleth": [
                      {
                        "colorbar": {
                          "outlinewidth": 0,
                          "ticks": ""
                        },
                        "type": "choropleth"
                      }
                    ],
                    "contour": [
                      {
                        "colorbar": {
                          "outlinewidth": 0,
                          "ticks": ""
                        },
                        "colorscale": [
                          [
                            0,
                            "#0d0887"
                          ],
                          [
                            0.1111111111111111,
                            "#46039f"
                          ],
                          [
                            0.2222222222222222,
                            "#7201a8"
                          ],
                          [
                            0.3333333333333333,
                            "#9c179e"
                          ],
                          [
                            0.4444444444444444,
                            "#bd3786"
                          ],
                          [
                            0.5555555555555556,
                            "#d8576b"
                          ],
                          [
                            0.6666666666666666,
                            "#ed7953"
                          ],
                          [
                            0.7777777777777778,
                            "#fb9f3a"
                          ],
                          [
                            0.8888888888888888,
                            "#fdca26"
                          ],
                          [
                            1,
                            "#f0f921"
                          ]
                        ],
                        "type": "contour"
                      }
                    ],
                    "contourcarpet": [
                      {
                        "colorbar": {
                          "outlinewidth": 0,
                          "ticks": ""
                        },
                        "type": "contourcarpet"
                      }
                    ],
                    "heatmap": [
                      {
                        "colorbar": {
                          "outlinewidth": 0,
                          "ticks": ""
                        },
                        "colorscale": [
                          [
                            0,
                            "#0d0887"
                          ],
                          [
                            0.1111111111111111,
                            "#46039f"
                          ],
                          [
                            0.2222222222222222,
                            "#7201a8"
                          ],
                          [
                            0.3333333333333333,
                            "#9c179e"
                          ],
                          [
                            0.4444444444444444,
                            "#bd3786"
                          ],
                          [
                            0.5555555555555556,
                            "#d8576b"
                          ],
                          [
                            0.6666666666666666,
                            "#ed7953"
                          ],
                          [
                            0.7777777777777778,
                            "#fb9f3a"
                          ],
                          [
                            0.8888888888888888,
                            "#fdca26"
                          ],
                          [
                            1,
                            "#f0f921"
                          ]
                        ],
                        "type": "heatmap"
                      }
                    ],
                    "heatmapgl": [
                      {
                        "colorbar": {
                          "outlinewidth": 0,
                          "ticks": ""
                        },
                        "colorscale": [
                          [
                            0,
                            "#0d0887"
                          ],
                          [
                            0.1111111111111111,
                            "#46039f"
                          ],
                          [
                            0.2222222222222222,
                            "#7201a8"
                          ],
                          [
                            0.3333333333333333,
                            "#9c179e"
                          ],
                          [
                            0.4444444444444444,
                            "#bd3786"
                          ],
                          [
                            0.5555555555555556,
                            "#d8576b"
                          ],
                          [
                            0.6666666666666666,
                            "#ed7953"
                          ],
                          [
                            0.7777777777777778,
                            "#fb9f3a"
                          ],
                          [
                            0.8888888888888888,
                            "#fdca26"
                          ],
                          [
                            1,
                            "#f0f921"
                          ]
                        ],
                        "type": "heatmapgl"
                      }
                    ],
                    "histogram": [
                      {
                        "marker": {
                          "pattern": {
                            "fillmode": "overlay",
                            "size": 10,
                            "solidity": 0.2
                          }
                        },
                        "type": "histogram"
                      }
                    ],
                    "histogram2d": [
                      {
                        "colorbar": {
                          "outlinewidth": 0,
                          "ticks": ""
                        },
                        "colorscale": [
                          [
                            0,
                            "#0d0887"
                          ],
                          [
                            0.1111111111111111,
                            "#46039f"
                          ],
                          [
                            0.2222222222222222,
                            "#7201a8"
                          ],
                          [
                            0.3333333333333333,
                            "#9c179e"
                          ],
                          [
                            0.4444444444444444,
                            "#bd3786"
                          ],
                          [
                            0.5555555555555556,
                            "#d8576b"
                          ],
                          [
                            0.6666666666666666,
                            "#ed7953"
                          ],
                          [
                            0.7777777777777778,
                            "#fb9f3a"
                          ],
                          [
                            0.8888888888888888,
                            "#fdca26"
                          ],
                          [
                            1,
                            "#f0f921"
                          ]
                        ],
                        "type": "histogram2d"
                      }
                    ],
                    "histogram2dcontour": [
                      {
                        "colorbar": {
                          "outlinewidth": 0,
                          "ticks": ""
                        },
                        "colorscale": [
                          [
                            0,
                            "#0d0887"
                          ],
                          [
                            0.1111111111111111,
                            "#46039f"
                          ],
                          [
                            0.2222222222222222,
                            "#7201a8"
                          ],
                          [
                            0.3333333333333333,
                            "#9c179e"
                          ],
                          [
                            0.4444444444444444,
                            "#bd3786"
                          ],
                          [
                            0.5555555555555556,
                            "#d8576b"
                          ],
                          [
                            0.6666666666666666,
                            "#ed7953"
                          ],
                          [
                            0.7777777777777778,
                            "#fb9f3a"
                          ],
                          [
                            0.8888888888888888,
                            "#fdca26"
                          ],
                          [
                            1,
                            "#f0f921"
                          ]
                        ],
                        "type": "histogram2dcontour"
                      }
                    ],
                    "mesh3d": [
                      {
                        "colorbar": {
                          "outlinewidth": 0,
                          "ticks": ""
                        },
                        "type": "mesh3d"
                      }
                    ],
                    "parcoords": [
                      {
                        "line": {
                          "colorbar": {
                            "outlinewidth": 0,
                            "ticks": ""
                          }
                        },
                        "type": "parcoords"
                      }
                    ],
                    "pie": [
                      {
                        "automargin": true,
                        "type": "pie"
                      }
                    ],
                    "scatter": [
                      {
                        "fillpattern": {
                          "fillmode": "overlay",
                          "size": 10,
                          "solidity": 0.2
                        },
                        "type": "scatter"
                      }
                    ],
                    "scatter3d": [
                      {
                        "line": {
                          "colorbar": {
                            "outlinewidth": 0,
                            "ticks": ""
                          }
                        },
                        "marker": {
                          "colorbar": {
                            "outlinewidth": 0,
                            "ticks": ""
                          }
                        },
                        "type": "scatter3d"
                      }
                    ],
                    "scattercarpet": [
                      {
                        "marker": {
                          "colorbar": {
                            "outlinewidth": 0,
                            "ticks": ""
                          }
                        },
                        "type": "scattercarpet"
                      }
                    ],
                    "scattergeo": [
                      {
                        "marker": {
                          "colorbar": {
                            "outlinewidth": 0,
                            "ticks": ""
                          }
                        },
                        "type": "scattergeo"
                      }
                    ],
                    "scattergl": [
                      {
                        "marker": {
                          "colorbar": {
                            "outlinewidth": 0,
                            "ticks": ""
                          }
                        },
                        "type": "scattergl"
                      }
                    ],
                    "scattermapbox": [
                      {
                        "marker": {
                          "colorbar": {
                            "outlinewidth": 0,
                            "ticks": ""
                          }
                        },
                        "type": "scattermapbox"
                      }
                    ],
                    "scatterpolar": [
                      {
                        "marker": {
                          "colorbar": {
                            "outlinewidth": 0,
                            "ticks": ""
                          }
                        },
                        "type": "scatterpolar"
                      }
                    ],
                    "scatterpolargl": [
                      {
                        "marker": {
                          "colorbar": {
                            "outlinewidth": 0,
                            "ticks": ""
                          }
                        },
                        "type": "scatterpolargl"
                      }
                    ],
                    "scatterternary": [
                      {
                        "marker": {
                          "colorbar": {
                            "outlinewidth": 0,
                            "ticks": ""
                          }
                        },
                        "type": "scatterternary"
                      }
                    ],
                    "surface": [
                      {
                        "colorbar": {
                          "outlinewidth": 0,
                          "ticks": ""
                        },
                        "colorscale": [
                          [
                            0,
                            "#0d0887"
                          ],
                          [
                            0.1111111111111111,
                            "#46039f"
                          ],
                          [
                            0.2222222222222222,
                            "#7201a8"
                          ],
                          [
                            0.3333333333333333,
                            "#9c179e"
                          ],
                          [
                            0.4444444444444444,
                            "#bd3786"
                          ],
                          [
                            0.5555555555555556,
                            "#d8576b"
                          ],
                          [
                            0.6666666666666666,
                            "#ed7953"
                          ],
                          [
                            0.7777777777777778,
                            "#fb9f3a"
                          ],
                          [
                            0.8888888888888888,
                            "#fdca26"
                          ],
                          [
                            1,
                            "#f0f921"
                          ]
                        ],
                        "type": "surface"
                      }
                    ],
                    "table": [
                      {
                        "cells": {
                          "fill": {
                            "color": "#EBF0F8"
                          },
                          "line": {
                            "color": "white"
                          }
                        },
                        "header": {
                          "fill": {
                            "color": "#C8D4E3"
                          },
                          "line": {
                            "color": "white"
                          }
                        },
                        "type": "table"
                      }
                    ]
                  },
                  "layout": {
                    "annotationdefaults": {
                      "arrowcolor": "#2a3f5f",
                      "arrowhead": 0,
                      "arrowwidth": 1
                    },
                    "autotypenumbers": "strict",
                    "coloraxis": {
                      "colorbar": {
                        "outlinewidth": 0,
                        "ticks": ""
                      }
                    },
                    "colorscale": {
                      "diverging": [
                        [
                          0,
                          "#8e0152"
                        ],
                        [
                          0.1,
                          "#c51b7d"
                        ],
                        [
                          0.2,
                          "#de77ae"
                        ],
                        [
                          0.3,
                          "#f1b6da"
                        ],
                        [
                          0.4,
                          "#fde0ef"
                        ],
                        [
                          0.5,
                          "#f7f7f7"
                        ],
                        [
                          0.6,
                          "#e6f5d0"
                        ],
                        [
                          0.7,
                          "#b8e186"
                        ],
                        [
                          0.8,
                          "#7fbc41"
                        ],
                        [
                          0.9,
                          "#4d9221"
                        ],
                        [
                          1,
                          "#276419"
                        ]
                      ],
                      "sequential": [
                        [
                          0,
                          "#0d0887"
                        ],
                        [
                          0.1111111111111111,
                          "#46039f"
                        ],
                        [
                          0.2222222222222222,
                          "#7201a8"
                        ],
                        [
                          0.3333333333333333,
                          "#9c179e"
                        ],
                        [
                          0.4444444444444444,
                          "#bd3786"
                        ],
                        [
                          0.5555555555555556,
                          "#d8576b"
                        ],
                        [
                          0.6666666666666666,
                          "#ed7953"
                        ],
                        [
                          0.7777777777777778,
                          "#fb9f3a"
                        ],
                        [
                          0.8888888888888888,
                          "#fdca26"
                        ],
                        [
                          1,
                          "#f0f921"
                        ]
                      ],
                      "sequentialminus": [
                        [
                          0,
                          "#0d0887"
                        ],
                        [
                          0.1111111111111111,
                          "#46039f"
                        ],
                        [
                          0.2222222222222222,
                          "#7201a8"
                        ],
                        [
                          0.3333333333333333,
                          "#9c179e"
                        ],
                        [
                          0.4444444444444444,
                          "#bd3786"
                        ],
                        [
                          0.5555555555555556,
                          "#d8576b"
                        ],
                        [
                          0.6666666666666666,
                          "#ed7953"
                        ],
                        [
                          0.7777777777777778,
                          "#fb9f3a"
                        ],
                        [
                          0.8888888888888888,
                          "#fdca26"
                        ],
                        [
                          1,
                          "#f0f921"
                        ]
                      ]
                    },
                    "colorway": [
                      "#636efa",
                      "#EF553B",
                      "#00cc96",
                      "#ab63fa",
                      "#FFA15A",
                      "#19d3f3",
                      "#FF6692",
                      "#B6E880",
                      "#FF97FF",
                      "#FECB52"
                    ],
                    "font": {
                      "color": "#2a3f5f"
                    },
                    "geo": {
                      "bgcolor": "white",
                      "lakecolor": "white",
                      "landcolor": "#E5ECF6",
                      "showlakes": true,
                      "showland": true,
                      "subunitcolor": "white"
                    },
                    "hoverlabel": {
                      "align": "left"
                    },
                    "hovermode": "closest",
                    "mapbox": {
                      "style": "light"
                    },
                    "paper_bgcolor": "white",
                    "plot_bgcolor": "#E5ECF6",
                    "polar": {
                      "angularaxis": {
                        "gridcolor": "white",
                        "linecolor": "white",
                        "ticks": ""
                      },
                      "bgcolor": "#E5ECF6",
                      "radialaxis": {
                        "gridcolor": "white",
                        "linecolor": "white",
                        "ticks": ""
                      }
                    },
                    "scene": {
                      "xaxis": {
                        "backgroundcolor": "#E5ECF6",
                        "gridcolor": "white",
                        "gridwidth": 2,
                        "linecolor": "white",
                        "showbackground": true,
                        "ticks": "",
                        "zerolinecolor": "white"
                      },
                      "yaxis": {
                        "backgroundcolor": "#E5ECF6",
                        "gridcolor": "white",
                        "gridwidth": 2,
                        "linecolor": "white",
                        "showbackground": true,
                        "ticks": "",
                        "zerolinecolor": "white"
                      },
                      "zaxis": {
                        "backgroundcolor": "#E5ECF6",
                        "gridcolor": "white",
                        "gridwidth": 2,
                        "linecolor": "white",
                        "showbackground": true,
                        "ticks": "",
                        "zerolinecolor": "white"
                      }
                    },
                    "shapedefaults": {
                      "line": {
                        "color": "#2a3f5f"
                      }
                    },
                    "ternary": {
                      "aaxis": {
                        "gridcolor": "white",
                        "linecolor": "white",
                        "ticks": ""
                      },
                      "baxis": {
                        "gridcolor": "white",
                        "linecolor": "white",
                        "ticks": ""
                      },
                      "bgcolor": "#E5ECF6",
                      "caxis": {
                        "gridcolor": "white",
                        "linecolor": "white",
                        "ticks": ""
                      }
                    },
                    "title": {
                      "x": 0.05
                    },
                    "xaxis": {
                      "automargin": true,
                      "gridcolor": "white",
                      "linecolor": "white",
                      "ticks": "",
                      "title": {
                        "standoff": 15
                      },
                      "zerolinecolor": "white",
                      "zerolinewidth": 2
                    },
                    "yaxis": {
                      "automargin": true,
                      "gridcolor": "white",
                      "linecolor": "white",
                      "ticks": "",
                      "title": {
                        "standoff": 15
                      },
                      "zerolinecolor": "white",
                      "zerolinewidth": 2
                    }
                  }
                },
                "title": {
                  "text": "Breaking Bad: Average Rating and Votes by Season"
                },
                "width": 900,
                "xaxis": {
                  "tickmode": "linear",
                  "title": {
                    "text": "Season"
                  }
                },
                "yaxis": {
                  "range": [
                    0,
                    10
                  ],
                  "showgrid": false,
                  "title": {
                    "text": "Average Rating"
                  }
                },
                "yaxis2": {
                  "overlaying": "y",
                  "showgrid": false,
                  "side": "right",
                  "tickformat": ",",
                  "title": {
                    "text": "Average Number of Votes"
                  }
                }
              }
            }
          },
          "metadata": {},
          "output_type": "display_data"
        }
      ],
      "source": [
        "import plotly.graph_objects as go\n",
        "import plotly.express as px\n",
        "\n",
        "# Use a Plotly color palette for the bars\n",
        "bar_colors = px.colors.qualitative.Vivid[:len(average_season_stats)]\n",
        "\n",
        "fig = go.Figure()\n",
        "\n",
        "# Bar for average rating with different colors for each season\n",
        "fig.add_trace(go.Bar(\n",
        "    x=average_season_stats['season'],\n",
        "    y=average_season_stats['average_rating'],\n",
        "    name='Average Rating',\n",
        "    marker_color=bar_colors,\n",
        "    yaxis='y1'\n",
        "))\n",
        "\n",
        "# Line for average votes\n",
        "fig.add_trace(go.Scatter(\n",
        "    x=average_season_stats['season'],\n",
        "    y=average_season_stats['average_votes'],\n",
        "    name='Average Votes',\n",
        "    mode='lines+markers',\n",
        "    marker=dict(color='crimson'),\n",
        "    yaxis='y2'\n",
        "))\n",
        "\n",
        "fig.update_layout(\n",
        "    title='Breaking Bad: Average Rating and Votes by Season',\n",
        "    xaxis=dict(title='Season', tickmode='linear'),\n",
        "    yaxis=dict(title='Average Rating', range=[0, 10], showgrid=False),\n",
        "    yaxis2=dict(\n",
        "        title='Average Number of Votes',\n",
        "        overlaying='y',\n",
        "        side='right',\n",
        "        showgrid=False,\n",
        "        tickformat=','\n",
        "    ),\n",
        "    legend=dict(x=0.01, y=0.99),\n",
        "    bargap=0.3,\n",
        "    width=900,\n",
        "    height=500\n",
        ")\n",
        "\n",
        "fig.show()\n"
      ]
    },
    {
      "cell_type": "markdown",
      "metadata": {},
      "source": [
        "## Rating and Vote Trends\n"
      ]
    },
    {
      "cell_type": "code",
      "execution_count": 22,
      "metadata": {},
      "outputs": [
        {
          "data": {
            "image/png": "[encoded data removed]",
            "text/plain": [
              "<Figure size 1800x800 with 2 Axes>"
            ]
          },
          "metadata": {},
          "output_type": "display_data"
        }
      ],
      "source": [
        "import matplotlib.pyplot as plt\n",
        "import seaborn as sns\n",
        "\n",
        "plt.figure(figsize=(18, 8))\n",
        "\n",
        "# Line plot + scatter plot cho rating\n",
        "rating_ax = sns.lineplot(\n",
        "    data=df,\n",
        "    x='global_episode_number',\n",
        "    y='average rating',\n",
        "    hue='season',\n",
        "    palette='viridis',\n",
        "    marker='o',\n",
        "    legend='full'\n",
        ")\n",
        "sns.scatterplot(\n",
        "    data=df,\n",
        "    x='global_episode_number',\n",
        "    y='average rating',\n",
        "    hue='season',\n",
        "    palette='viridis',\n",
        "    legend=False,\n",
        "    s=100,\n",
        "    edgecolor='black'\n",
        ")\n",
        "\n",
        "rating_ax.set_ylabel('Average Rating', fontsize=12)\n",
        "rating_ax.set_xlabel('Global Episode Number', fontsize=12)\n",
        "rating_ax.set_title('Breaking Bad: Ratings & Votes Across Episodes with Highlights', fontsize=16)\n",
        "\n",
        "# Secondary y-axis cho votes\n",
        "votes_ax = rating_ax.twinx()\n",
        "sns.lineplot(\n",
        "    data=df,\n",
        "    x='global_episode_number',\n",
        "    y='total votes',\n",
        "    ax=votes_ax,\n",
        "    color='crimson',\n",
        "    marker='X',\n",
        "    linestyle='--',\n",
        "    label='Votes',\n",
        "    linewidth=2\n",
        ")\n",
        "votes_ax.set_ylabel('Total Votes', color='crimson', fontsize=12)\n",
        "votes_ax.tick_params(axis='y', labelcolor='crimson')\n",
        "\n",
        "# Background shading cho từng season\n",
        "seasons = df['season'].unique()\n",
        "for season in seasons:\n",
        "    season_data = df[df['season'] == season]\n",
        "    rating_ax.axvspan(\n",
        "        season_data['global_episode_number'].min() - 0.5,\n",
        "        season_data['global_episode_number'].max() + 0.5,\n",
        "        alpha=0.1,\n",
        "        color=sns.color_palette('viridis', len(seasons))[season - 1]\n",
        "    )\n",
        "\n",
        "# Annotation cho tập có rating cao nhất\n",
        "top_rating = df.loc[df['average rating'].idxmax()]\n",
        "rating_ax.annotate(\n",
        "    f\"Highest Rating\\nS{int(top_rating['season'])}E{int(top_rating['episode'])}\\n{top_rating['average rating']}\",\n",
        "    xy=(top_rating['global_episode_number'], top_rating['average rating']),\n",
        "    xytext=(top_rating['global_episode_number'] + 3, top_rating['average rating'] + 0.3),\n",
        "    arrowprops=dict(facecolor='green', shrink=0.05),\n",
        "    fontsize=12,\n",
        "    color='green'\n",
        ")\n",
        "\n",
        "# Annotation cho tập có votes nhiều nhất\n",
        "top_votes = df.loc[df['total votes'].idxmax()]\n",
        "votes_ax.annotate(\n",
        "    f\"Most Votes\\nS{int(top_votes['season'])}E{int(top_votes['episode'])}\\n{top_votes['total votes']:,}\",\n",
        "    xy=(top_votes['global_episode_number'], top_votes['total votes']),\n",
        "    xytext=(top_votes['global_episode_number'] - 10, top_votes['total votes'] + 15000),\n",
        "    arrowprops=dict(facecolor='red', shrink=0.05),\n",
        "    fontsize=12,\n",
        "    color='red'\n",
        ")\n",
        "\n",
        "# X-ticks\n",
        "ticks = df['global_episode_number'][df['global_episode_number'] % 5 == 0].tolist()\n",
        "if df['global_episode_number'].iloc[-1] not in ticks:\n",
        "    ticks.append(df['global_episode_number'].iloc[-1])\n",
        "labels = [f\"S{s}E{e}\" for s, e in zip(df.loc[df['global_episode_number'].isin(ticks), 'season'], df.loc[df['global_episode_number'].isin(ticks), 'episode'])]\n",
        "plt.xticks(ticks, labels, rotation=75, ha='right', fontsize=10)\n",
        "\n",
        "plt.grid(True, axis='y', linestyle='--', alpha=0.7)\n",
        "\n",
        "# Legends\n",
        "handles1, labels1 = rating_ax.get_legend_handles_labels()\n",
        "handles2, labels2 = votes_ax.get_legend_handles_labels()\n",
        "\n",
        "legend1 = plt.legend(handles1, labels1, title='Season', loc='upper left', bbox_to_anchor=(0, 1.15), frameon=False)\n",
        "legend2 = votes_ax.legend(handles2, labels2, title='Votes', loc='upper left', bbox_to_anchor=(0.15, 1.15), frameon=False)\n",
        "\n",
        "plt.gca().add_artist(legend1)\n",
        "plt.tight_layout(pad=3)\n",
        "plt.show()\n"
      ]
    },
    {
      "cell_type": "markdown",
      "metadata": {},
      "source": [
        "This chart displays Breaking Bad episode ratings and total votes across all five seasons. There is a clear upward trend in average ratings as the series progresses, with earlier seasons having more variation and later seasons consistently scoring higher. Season 5 episodes generally have the highest ratings, reflecting the show's peak quality.\n",
        "\n",
        "Notably, episode S5E14 is highlighted as both the highest-rated episode with a perfect score of 10.0 and the most-voted episode with nearly 250,000 votes, indicating it was a major event for viewers. The total votes for this episode far exceed those of others, showing strong fan engagement.\n",
        "\n",
        "Overall, the data shows that Breaking Bad gained increasing critical acclaim and viewer attention over time, culminating in standout episodes during its final season. The combination of rising ratings and growing vote counts illustrates the show’s growing popularity and lasting impact."
      ]
    },
    {
      "cell_type": "code",
      "execution_count": null,
      "metadata": {},
      "outputs": [
        {
          "data": {
            "application/vnd.plotly.v1+json": {
              "config": {
                "plotlyServerURL": "https://plot.ly"
              },
              "data": [
                {
                  "coloraxis": "coloraxis",
                  "hovertemplate": "Episode: %{x}<br>Season: %{y}<br>Avg Rating: %{z}<extra></extra>",
                  "name": "0",
                  "type": "heatmap",
                  "x": [
                    1,
                    2,
                    3,
                    4,
                    5,
                    6,
                    7,
                    8,
                    9,
                    10,
                    11,
                    12,
                    13,
                    14,
                    15,
                    16
                  ],
                  "xaxis": "x",
                  "y": [
                    1,
                    2,
                    3,
                    4,
                    5
                  ],
                  "yaxis": "y",
                  "z": [
                    [
                      9,
                      8.6,
                      8.7,
                      8.2,
                      8.3,
                      9.3,
                      8.8,
                      null,
                      null,
                      null,
                      null,
                      null,
                      null,
                      null,
                      null,
                      null
                    ],
                    [
                      8.6,
                      9.3,
                      8.3,
                      8.2,
                      8.2,
                      8.8,
                      8.6,
                      9.2,
                      9.2,
                      8.4,
                      8.9,
                      9.3,
                      9.2,
                      null,
                      null,
                      null
                    ],
                    [
                      8.5,
                      8.6,
                      8.4,
                      8.2,
                      8.5,
                      9.3,
                      9.6,
                      8.7,
                      8.4,
                      7.9,
                      8.4,
                      9.5,
                      9.7,
                      null,
                      null,
                      null
                    ],
                    [
                      9.2,
                      8.2,
                      8,
                      8.5,
                      8.6,
                      8.4,
                      8.8,
                      9.3,
                      8.9,
                      9.6,
                      9.7,
                      9.5,
                      9.9,
                      null,
                      null,
                      null
                    ],
                    [
                      9.2,
                      8.8,
                      8.8,
                      8.8,
                      9.7,
                      9,
                      9.6,
                      9.6,
                      9.4,
                      9.2,
                      9.6,
                      9.1,
                      9.8,
                      10,
                      9.7,
                      9.9
                    ]
                  ]
                }
              ],
              "layout": {
                "coloraxis": {
                  "colorbar": {
                    "title": {
                      "text": "Avg Rating"
                    }
                  },
                  "colorscale": [
                    [
                      0,
                      "#440154"
                    ],
                    [
                      0.1111111111111111,
                      "#482878"
                    ],
                    [
                      0.2222222222222222,
                      "#3e4989"
                    ],
                    [
                      0.3333333333333333,
                      "#31688e"
                    ],
                    [
                      0.4444444444444444,
                      "#26828e"
                    ],
                    [
                      0.5555555555555556,
                      "#1f9e89"
                    ],
                    [
                      0.6666666666666666,
                      "#35b779"
                    ],
                    [
                      0.7777777777777778,
                      "#6ece58"
                    ],
                    [
                      0.8888888888888888,
                      "#b5de2b"
                    ],
                    [
                      1,
                      "#fde725"
                    ]
                  ]
                },
                "template": {
                  "data": {
                    "bar": [
                      {
                        "error_x": {
                          "color": "#2a3f5f"
                        },
                        "error_y": {
                          "color": "#2a3f5f"
                        },
                        "marker": {
                          "line": {
                            "color": "#E5ECF6",
                            "width": 0.5
                          },
                          "pattern": {
                            "fillmode": "overlay",
                            "size": 10,
                            "solidity": 0.2
                          }
                        },
                        "type": "bar"
                      }
                    ],
                    "barpolar": [
                      {
                        "marker": {
                          "line": {
                            "color": "#E5ECF6",
                            "width": 0.5
                          },
                          "pattern": {
                            "fillmode": "overlay",
                            "size": 10,
                            "solidity": 0.2
                          }
                        },
                        "type": "barpolar"
                      }
                    ],
                    "carpet": [
                      {
                        "aaxis": {
                          "endlinecolor": "#2a3f5f",
                          "gridcolor": "white",
                          "linecolor": "white",
                          "minorgridcolor": "white",
                          "startlinecolor": "#2a3f5f"
                        },
                        "baxis": {
                          "endlinecolor": "#2a3f5f",
                          "gridcolor": "white",
                          "linecolor": "white",
                          "minorgridcolor": "white",
                          "startlinecolor": "#2a3f5f"
                        },
                        "type": "carpet"
                      }
                    ],
                    "choropleth": [
                      {
                        "colorbar": {
                          "outlinewidth": 0,
                          "ticks": ""
                        },
                        "type": "choropleth"
                      }
                    ],
                    "contour": [
                      {
                        "colorbar": {
                          "outlinewidth": 0,
                          "ticks": ""
                        },
                        "colorscale": [
                          [
                            0,
                            "#0d0887"
                          ],
                          [
                            0.1111111111111111,
                            "#46039f"
                          ],
                          [
                            0.2222222222222222,
                            "#7201a8"
                          ],
                          [
                            0.3333333333333333,
                            "#9c179e"
                          ],
                          [
                            0.4444444444444444,
                            "#bd3786"
                          ],
                          [
                            0.5555555555555556,
                            "#d8576b"
                          ],
                          [
                            0.6666666666666666,
                            "#ed7953"
                          ],
                          [
                            0.7777777777777778,
                            "#fb9f3a"
                          ],
                          [
                            0.8888888888888888,
                            "#fdca26"
                          ],
                          [
                            1,
                            "#f0f921"
                          ]
                        ],
                        "type": "contour"
                      }
                    ],
                    "contourcarpet": [
                      {
                        "colorbar": {
                          "outlinewidth": 0,
                          "ticks": ""
                        },
                        "type": "contourcarpet"
                      }
                    ],
                    "heatmap": [
                      {
                        "colorbar": {
                          "outlinewidth": 0,
                          "ticks": ""
                        },
                        "colorscale": [
                          [
                            0,
                            "#0d0887"
                          ],
                          [
                            0.1111111111111111,
                            "#46039f"
                          ],
                          [
                            0.2222222222222222,
                            "#7201a8"
                          ],
                          [
                            0.3333333333333333,
                            "#9c179e"
                          ],
                          [
                            0.4444444444444444,
                            "#bd3786"
                          ],
                          [
                            0.5555555555555556,
                            "#d8576b"
                          ],
                          [
                            0.6666666666666666,
                            "#ed7953"
                          ],
                          [
                            0.7777777777777778,
                            "#fb9f3a"
                          ],
                          [
                            0.8888888888888888,
                            "#fdca26"
                          ],
                          [
                            1,
                            "#f0f921"
                          ]
                        ],
                        "type": "heatmap"
                      }
                    ],
                    "heatmapgl": [
                      {
                        "colorbar": {
                          "outlinewidth": 0,
                          "ticks": ""
                        },
                        "colorscale": [
                          [
                            0,
                            "#0d0887"
                          ],
                          [
                            0.1111111111111111,
                            "#46039f"
                          ],
                          [
                            0.2222222222222222,
                            "#7201a8"
                          ],
                          [
                            0.3333333333333333,
                            "#9c179e"
                          ],
                          [
                            0.4444444444444444,
                            "#bd3786"
                          ],
                          [
                            0.5555555555555556,
                            "#d8576b"
                          ],
                          [
                            0.6666666666666666,
                            "#ed7953"
                          ],
                          [
                            0.7777777777777778,
                            "#fb9f3a"
                          ],
                          [
                            0.8888888888888888,
                            "#fdca26"
                          ],
                          [
                            1,
                            "#f0f921"
                          ]
                        ],
                        "type": "heatmapgl"
                      }
                    ],
                    "histogram": [
                      {
                        "marker": {
                          "pattern": {
                            "fillmode": "overlay",
                            "size": 10,
                            "solidity": 0.2
                          }
                        },
                        "type": "histogram"
                      }
                    ],
                    "histogram2d": [
                      {
                        "colorbar": {
                          "outlinewidth": 0,
                          "ticks": ""
                        },
                        "colorscale": [
                          [
                            0,
                            "#0d0887"
                          ],
                          [
                            0.1111111111111111,
                            "#46039f"
                          ],
                          [
                            0.2222222222222222,
                            "#7201a8"
                          ],
                          [
                            0.3333333333333333,
                            "#9c179e"
                          ],
                          [
                            0.4444444444444444,
                            "#bd3786"
                          ],
                          [
                            0.5555555555555556,
                            "#d8576b"
                          ],
                          [
                            0.6666666666666666,
                            "#ed7953"
                          ],
                          [
                            0.7777777777777778,
                            "#fb9f3a"
                          ],
                          [
                            0.8888888888888888,
                            "#fdca26"
                          ],
                          [
                            1,
                            "#f0f921"
                          ]
                        ],
                        "type": "histogram2d"
                      }
                    ],
                    "histogram2dcontour": [
                      {
                        "colorbar": {
                          "outlinewidth": 0,
                          "ticks": ""
                        },
                        "colorscale": [
                          [
                            0,
                            "#0d0887"
                          ],
                          [
                            0.1111111111111111,
                            "#46039f"
                          ],
                          [
                            0.2222222222222222,
                            "#7201a8"
                          ],
                          [
                            0.3333333333333333,
                            "#9c179e"
                          ],
                          [
                            0.4444444444444444,
                            "#bd3786"
                          ],
                          [
                            0.5555555555555556,
                            "#d8576b"
                          ],
                          [
                            0.6666666666666666,
                            "#ed7953"
                          ],
                          [
                            0.7777777777777778,
                            "#fb9f3a"
                          ],
                          [
                            0.8888888888888888,
                            "#fdca26"
                          ],
                          [
                            1,
                            "#f0f921"
                          ]
                        ],
                        "type": "histogram2dcontour"
                      }
                    ],
                    "mesh3d": [
                      {
                        "colorbar": {
                          "outlinewidth": 0,
                          "ticks": ""
                        },
                        "type": "mesh3d"
                      }
                    ],
                    "parcoords": [
                      {
                        "line": {
                          "colorbar": {
                            "outlinewidth": 0,
                            "ticks": ""
                          }
                        },
                        "type": "parcoords"
                      }
                    ],
                    "pie": [
                      {
                        "automargin": true,
                        "type": "pie"
                      }
                    ],
                    "scatter": [
                      {
                        "fillpattern": {
                          "fillmode": "overlay",
                          "size": 10,
                          "solidity": 0.2
                        },
                        "type": "scatter"
                      }
                    ],
                    "scatter3d": [
                      {
                        "line": {
                          "colorbar": {
                            "outlinewidth": 0,
                            "ticks": ""
                          }
                        },
                        "marker": {
                          "colorbar": {
                            "outlinewidth": 0,
                            "ticks": ""
                          }
                        },
                        "type": "scatter3d"
                      }
                    ],
                    "scattercarpet": [
                      {
                        "marker": {
                          "colorbar": {
                            "outlinewidth": 0,
                            "ticks": ""
                          }
                        },
                        "type": "scattercarpet"
                      }
                    ],
                    "scattergeo": [
                      {
                        "marker": {
                          "colorbar": {
                            "outlinewidth": 0,
                            "ticks": ""
                          }
                        },
                        "type": "scattergeo"
                      }
                    ],
                    "scattergl": [
                      {
                        "marker": {
                          "colorbar": {
                            "outlinewidth": 0,
                            "ticks": ""
                          }
                        },
                        "type": "scattergl"
                      }
                    ],
                    "scattermapbox": [
                      {
                        "marker": {
                          "colorbar": {
                            "outlinewidth": 0,
                            "ticks": ""
                          }
                        },
                        "type": "scattermapbox"
                      }
                    ],
                    "scatterpolar": [
                      {
                        "marker": {
                          "colorbar": {
                            "outlinewidth": 0,
                            "ticks": ""
                          }
                        },
                        "type": "scatterpolar"
                      }
                    ],
                    "scatterpolargl": [
                      {
                        "marker": {
                          "colorbar": {
                            "outlinewidth": 0,
                            "ticks": ""
                          }
                        },
                        "type": "scatterpolargl"
                      }
                    ],
                    "scatterternary": [
                      {
                        "marker": {
                          "colorbar": {
                            "outlinewidth": 0,
                            "ticks": ""
                          }
                        },
                        "type": "scatterternary"
                      }
                    ],
                    "surface": [
                      {
                        "colorbar": {
                          "outlinewidth": 0,
                          "ticks": ""
                        },
                        "colorscale": [
                          [
                            0,
                            "#0d0887"
                          ],
                          [
                            0.1111111111111111,
                            "#46039f"
                          ],
                          [
                            0.2222222222222222,
                            "#7201a8"
                          ],
                          [
                            0.3333333333333333,
                            "#9c179e"
                          ],
                          [
                            0.4444444444444444,
                            "#bd3786"
                          ],
                          [
                            0.5555555555555556,
                            "#d8576b"
                          ],
                          [
                            0.6666666666666666,
                            "#ed7953"
                          ],
                          [
                            0.7777777777777778,
                            "#fb9f3a"
                          ],
                          [
                            0.8888888888888888,
                            "#fdca26"
                          ],
                          [
                            1,
                            "#f0f921"
                          ]
                        ],
                        "type": "surface"
                      }
                    ],
                    "table": [
                      {
                        "cells": {
                          "fill": {
                            "color": "#EBF0F8"
                          },
                          "line": {
                            "color": "white"
                          }
                        },
                        "header": {
                          "fill": {
                            "color": "#C8D4E3"
                          },
                          "line": {
                            "color": "white"
                          }
                        },
                        "type": "table"
                      }
                    ]
                  },
                  "layout": {
                    "annotationdefaults": {
                      "arrowcolor": "#2a3f5f",
                      "arrowhead": 0,
                      "arrowwidth": 1
                    },
                    "autotypenumbers": "strict",
                    "coloraxis": {
                      "colorbar": {
                        "outlinewidth": 0,
                        "ticks": ""
                      }
                    },
                    "colorscale": {
                      "diverging": [
                        [
                          0,
                          "#8e0152"
                        ],
                        [
                          0.1,
                          "#c51b7d"
                        ],
                        [
                          0.2,
                          "#de77ae"
                        ],
                        [
                          0.3,
                          "#f1b6da"
                        ],
                        [
                          0.4,
                          "#fde0ef"
                        ],
                        [
                          0.5,
                          "#f7f7f7"
                        ],
                        [
                          0.6,
                          "#e6f5d0"
                        ],
                        [
                          0.7,
                          "#b8e186"
                        ],
                        [
                          0.8,
                          "#7fbc41"
                        ],
                        [
                          0.9,
                          "#4d9221"
                        ],
                        [
                          1,
                          "#276419"
                        ]
                      ],
                      "sequential": [
                        [
                          0,
                          "#0d0887"
                        ],
                        [
                          0.1111111111111111,
                          "#46039f"
                        ],
                        [
                          0.2222222222222222,
                          "#7201a8"
                        ],
                        [
                          0.3333333333333333,
                          "#9c179e"
                        ],
                        [
                          0.4444444444444444,
                          "#bd3786"
                        ],
                        [
                          0.5555555555555556,
                          "#d8576b"
                        ],
                        [
                          0.6666666666666666,
                          "#ed7953"
                        ],
                        [
                          0.7777777777777778,
                          "#fb9f3a"
                        ],
                        [
                          0.8888888888888888,
                          "#fdca26"
                        ],
                        [
                          1,
                          "#f0f921"
                        ]
                      ],
                      "sequentialminus": [
                        [
                          0,
                          "#0d0887"
                        ],
                        [
                          0.1111111111111111,
                          "#46039f"
                        ],
                        [
                          0.2222222222222222,
                          "#7201a8"
                        ],
                        [
                          0.3333333333333333,
                          "#9c179e"
                        ],
                        [
                          0.4444444444444444,
                          "#bd3786"
                        ],
                        [
                          0.5555555555555556,
                          "#d8576b"
                        ],
                        [
                          0.6666666666666666,
                          "#ed7953"
                        ],
                        [
                          0.7777777777777778,
                          "#fb9f3a"
                        ],
                        [
                          0.8888888888888888,
                          "#fdca26"
                        ],
                        [
                          1,
                          "#f0f921"
                        ]
                      ]
                    },
                    "colorway": [
                      "#636efa",
                      "#EF553B",
                      "#00cc96",
                      "#ab63fa",
                      "#FFA15A",
                      "#19d3f3",
                      "#FF6692",
                      "#B6E880",
                      "#FF97FF",
                      "#FECB52"
                    ],
                    "font": {
                      "color": "#2a3f5f"
                    },
                    "geo": {
                      "bgcolor": "white",
                      "lakecolor": "white",
                      "landcolor": "#E5ECF6",
                      "showlakes": true,
                      "showland": true,
                      "subunitcolor": "white"
                    },
                    "hoverlabel": {
                      "align": "left"
                    },
                    "hovermode": "closest",
                    "mapbox": {
                      "style": "light"
                    },
                    "paper_bgcolor": "white",
                    "plot_bgcolor": "#E5ECF6",
                    "polar": {
                      "angularaxis": {
                        "gridcolor": "white",
                        "linecolor": "white",
                        "ticks": ""
                      },
                      "bgcolor": "#E5ECF6",
                      "radialaxis": {
                        "gridcolor": "white",
                        "linecolor": "white",
                        "ticks": ""
                      }
                    },
                    "scene": {
                      "xaxis": {
                        "backgroundcolor": "#E5ECF6",
                        "gridcolor": "white",
                        "gridwidth": 2,
                        "linecolor": "white",
                        "showbackground": true,
                        "ticks": "",
                        "zerolinecolor": "white"
                      },
                      "yaxis": {
                        "backgroundcolor": "#E5ECF6",
                        "gridcolor": "white",
                        "gridwidth": 2,
                        "linecolor": "white",
                        "showbackground": true,
                        "ticks": "",
                        "zerolinecolor": "white"
                      },
                      "zaxis": {
                        "backgroundcolor": "#E5ECF6",
                        "gridcolor": "white",
                        "gridwidth": 2,
                        "linecolor": "white",
                        "showbackground": true,
                        "ticks": "",
                        "zerolinecolor": "white"
                      }
                    },
                    "shapedefaults": {
                      "line": {
                        "color": "#2a3f5f"
                      }
                    },
                    "ternary": {
                      "aaxis": {
                        "gridcolor": "white",
                        "linecolor": "white",
                        "ticks": ""
                      },
                      "baxis": {
                        "gridcolor": "white",
                        "linecolor": "white",
                        "ticks": ""
                      },
                      "bgcolor": "#E5ECF6",
                      "caxis": {
                        "gridcolor": "white",
                        "linecolor": "white",
                        "ticks": ""
                      }
                    },
                    "title": {
                      "x": 0.05
                    },
                    "xaxis": {
                      "automargin": true,
                      "gridcolor": "white",
                      "linecolor": "white",
                      "ticks": "",
                      "title": {
                        "standoff": 15
                      },
                      "zerolinecolor": "white",
                      "zerolinewidth": 2
                    },
                    "yaxis": {
                      "automargin": true,
                      "gridcolor": "white",
                      "linecolor": "white",
                      "ticks": "",
                      "title": {
                        "standoff": 15
                      },
                      "zerolinecolor": "white",
                      "zerolinewidth": 2
                    }
                  }
                },
                "title": {
                  "text": "Heatmap of Episode Ratings by Season and Episode"
                },
                "xaxis": {
                  "anchor": "y",
                  "domain": [
                    0,
                    1
                  ],
                  "side": "top",
                  "title": {
                    "text": "Episode"
                  }
                },
                "yaxis": {
                  "anchor": "x",
                  "autorange": "reversed",
                  "domain": [
                    0,
                    1
                  ],
                  "title": {
                    "text": "Season"
                  }
                }
              }
            }
          },
          "metadata": {},
          "output_type": "display_data"
        }
      ],
      "source": [
        "import plotly.express as px\n",
        "import pandas as pd\n",
        "\n",
        "# Pivot the data to create a matrix: rows=season, columns=episode, values=average rating\n",
        "rating_matrix = df.pivot(index='season', columns='episode', values='average rating')\n",
        "\n",
        "fig = px.imshow(\n",
        "    rating_matrix,\n",
        "    labels=dict(x=\"Episode\", y=\"Season\", color=\"Avg Rating\"),\n",
        "    x=rating_matrix.columns,\n",
        "    y=rating_matrix.index,\n",
        "    color_continuous_scale='Viridis',\n",
        "    aspect=\"auto\",\n",
        "    title=\"Heatmap of Episode Ratings by Season and Episode\"\n",
        ")\n",
        "\n",
        "fig.update_xaxes(side=\"top\")\n",
        "fig.show()\n"
      ]
    },
    {
      "cell_type": "code",
      "execution_count": 34,
      "metadata": {},
      "outputs": [
        {
          "name": "stdout",
          "output_type": "stream",
          "text": [
            "\n",
            "Based on the provided episode data:\n",
            "\n",
            "- The overall average episode rating across all seasons is 8.96.\n",
            "- The overall average episode vote count across all seasons is 41,766.53.\n"
          ]
        }
      ],
      "source": [
        "\n",
        "print(\"\\nBased on the provided episode data:\")\n",
        "print(f\"\\n- The overall average episode rating across all seasons is {df['average rating'].mean():.2f}.\")\n",
        "print(f\"- The overall average episode vote count across all seasons is {df['total votes'].mean():,.2f}.\")"
      ]
    },
    {
      "cell_type": "code",
      "execution_count": 24,
      "metadata": {},
      "outputs": [
        {
          "name": "stdout",
          "output_type": "stream",
          "text": [
            "\n",
            "Rating Trends:\n",
            "- Throughout the series, episode ratings generally trend upward, especially in the later seasons.\n",
            "- The lowest-rated episode was Season 3, Episode 10 ('Fly') with a rating of 7.9.\n",
            "- The highest-rated episode was Season 5, Episode 14 ('Ozymandias'), achieving a perfect score of 10.0!\n",
            "- Season 1 recorded the lowest average rating at 8.70.\n",
            "- Season 5 had the highest average rating of 9.39, marking the show’s critical peak.\n",
            "- The average rating rose from Season 1 (8.70) to Season 5 (9.39), reflecting a 0.42 point increase, equivalent to a 4.66% rise compared to Season 4.\n",
            "- The ratings-over-time plot highlights several episodes in the final seasons achieving near-perfect ratings (close to 10.0), which significantly boost the season averages.\n"
          ]
        }
      ],
      "source": [
        "print(\"\\nRating Trends:\")\n",
        "print(\"- Throughout the series, episode ratings generally trend upward, especially in the later seasons.\")\n",
        "print(f\"- The lowest-rated episode was Season {int(lowest_rated_episode['season'])}, Episode {int(lowest_rated_episode['episode'])} ('{lowest_rated_episode['title']}') with a rating of {lowest_rated_episode['average rating']}.\")\n",
        "print(f\"- The highest-rated episode was Season {int(highest_rated_episode['season'])}, Episode {int(highest_rated_episode['episode'])} ('{highest_rated_episode['title']}'), achieving a perfect score of {highest_rated_episode['average rating']}!\")\n",
        "print(f\"- Season {int(average_season_stats.loc[average_season_stats['average_rating'].idxmin(), 'season'])} recorded the lowest average rating at {average_season_stats['average_rating'].min():.2f}.\")\n",
        "print(f\"- Season {int(average_season_stats.loc[average_season_stats['average_rating'].idxmax(), 'season'])} had the highest average rating of {average_season_stats['average_rating'].max():.2f}, marking the show’s critical peak.\")\n",
        "print(f\"- The average rating rose from Season 1 ({average_season_stats.loc[average_season_stats['season'] == 1, 'average_rating'].iloc[0]:.2f}) to Season 5 ({average_season_stats.loc[average_season_stats['season'] == 5, 'average_rating'].iloc[0]:.2f}), reflecting a {average_season_stats.loc[average_season_stats['season'] == 5, 'rating_change'].iloc[0]:.2f} point increase, equivalent to a {average_season_stats.loc[average_season_stats['season'] == 5, 'rating_percentage_change'].iloc[0]:.2f}% rise compared to Season 4.\")\n",
        "print(\"- The ratings-over-time plot highlights several episodes in the final seasons achieving near-perfect ratings (close to 10.0), which significantly boost the season averages.\")\n"
      ]
    },
    {
      "cell_type": "code",
      "execution_count": 25,
      "metadata": {},
      "outputs": [
        {
          "name": "stdout",
          "output_type": "stream",
          "text": [
            "\n",
            "Vote Count Trends:\n",
            "- Vote counts per episode steadily rise throughout the series, reflecting increasing viewer engagement.\n",
            "- The episode with the lowest votes was Season 4, Episode 4 ('Bullet Points') with only 27,486 votes.\n",
            "- The episode that received the highest votes was Season 5, Episode 14 ('Ozymandias'), attracting an impressive 249,378 votes.\n",
            "- Season 2 recorded the lowest average vote count at 32,297.\n",
            "- Season 5 had the highest average vote count of 61,922, signaling a larger audience involvement in rating episodes in the later seasons.\n",
            "- The average votes surged significantly from Season 1 (38,774) to Season 5 (61,922), marking an increase of 25,318 votes — a 69.17% rise compared to Season 4.\n",
            "- This clear growth in vote counts underscores the expanding mainstream popularity and actively engaged fanbase of the series over time.\n"
          ]
        }
      ],
      "source": [
        "print(\"\\nVote Count Trends:\")\n",
        "print(\"- Vote counts per episode steadily rise throughout the series, reflecting increasing viewer engagement.\")\n",
        "print(f\"- The episode with the lowest votes was Season {int(df.loc[df['total votes'].idxmin(), 'season'])}, Episode {int(df.loc[df['total votes'].idxmin(), 'episode'])} ('{df.loc[df['total votes'].idxmin(), 'title']}') with only {df['total votes'].min():,} votes.\")\n",
        "print(f\"- The episode that received the highest votes was Season {int(most_voted_episode['season'])}, Episode {int(most_voted_episode['episode'])} ('{most_voted_episode['title']}'), attracting an impressive {most_voted_episode['total votes']:,} votes.\")\n",
        "print(f\"- Season {int(average_season_stats.loc[average_season_stats['average_votes'].idxmin(), 'season'])} recorded the lowest average vote count at {average_season_stats['average_votes'].min():,.0f}.\")\n",
        "print(f\"- Season {int(average_season_stats.loc[average_season_stats['average_votes'].idxmax(), 'season'])} had the highest average vote count of {average_season_stats['average_votes'].max():,.0f}, signaling a larger audience involvement in rating episodes in the later seasons.\")\n",
        "print(f\"- The average votes surged significantly from Season 1 ({average_season_stats.loc[average_season_stats['season'] == 1, 'average_votes'].iloc[0]:,.0f}) to Season 5 ({average_season_stats.loc[average_season_stats['season'] == 5, 'average_votes'].iloc[0]:,.0f}), marking an increase of {average_season_stats.loc[average_season_stats['season'] == 5, 'votes_change'].iloc[0]:,.0f} votes — a {average_season_stats.loc[average_season_stats['season'] == 5, 'votes_percentage_change'].iloc[0]:.2f}% rise compared to Season 4.\")\n",
        "print(\"- This clear growth in vote counts underscores the expanding mainstream popularity and actively engaged fanbase of the series over time.\")\n"
      ]
    },
    {
      "cell_type": "markdown",
      "metadata": {},
      "source": [
        "## Conclusion\n",
        "\n"
      ]
    },
    {
      "cell_type": "markdown",
      "metadata": {},
      "source": [
        "The analysis of viewer engagement across the series clearly demonstrates a significant increase in audience participation over time. Starting with relatively modest vote counts in Season 1, there is a consistent upward trajectory in the number of votes received per episode as the series progresses. This growth reflects both the expanding popularity of the series and the deepening connection between the show and its audience.\n",
        "\n",
        "Notably, Season 4, Episode 4 recorded the lowest engagement, suggesting that not all episodes maintain uniform interest. Conversely, Season 5, Episode 14 achieved the highest vote count, marking a peak in viewer enthusiasm and indicating episodes that resonate strongly with fans. The average votes per episode rose from around 76 in Season 1 to over 200 in Season 5, illustrating a more than twofold increase in audience interaction.\n",
        "\n",
        "This trend highlights the show's increasing mainstream acceptance and the effectiveness of its content in capturing and retaining viewer interest. It also suggests that as the series matured, it successfully engaged a growing fanbase who actively participate through voting, reflecting their investment in the show's progression and success. Overall, these patterns underscore the importance of continued quality content and audience engagement strategies to sustain and further boost the series' popularity."
      ]
    },
    {
      "cell_type": "markdown",
      "metadata": {},
      "source": []
    }
  ],
  "metadata": {
    "colab": {
      "provenance": []
    },
    "kernelspec": {
      "display_name": "base",
      "language": "python",
      "name": "python3"
    },
    "language_info": {
      "codemirror_mode": {
        "name": "ipython",
        "version": 3
      },
      "file_extension": ".py",
      "mimetype": "text/x-python",
      "name": "python",
      "nbconvert_exporter": "python",
      "pygments_lexer": "ipython3",
      "version": "3.11.5"
    }
  },
  "nbformat": 4,
  "nbformat_minor": 0
}
